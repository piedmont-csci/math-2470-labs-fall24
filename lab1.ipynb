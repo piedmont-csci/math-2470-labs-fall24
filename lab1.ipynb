{
 "cells": [
  {
   "cell_type": "markdown",
   "id": "ac4121da",
   "metadata": {},
   "source": [
    "# Lab 1\n",
    "\n",
    "This semester, we will be completing lab assignments in a platform known as *Jupyter*, which can be used to combine text and code into a document called a *notebook*.  These instructions were created using Jupyter!"
   ]
  },
  {
   "cell_type": "markdown",
   "id": "0bfde998",
   "metadata": {},
   "source": [
    "## Running Jupyter\n",
    "\n",
    "Jupyter is free software, and there are multiple different ways to run it.  Try out a few and see what you like.\n",
    "\n",
    "* Install Jupyter locally on your computer: https://jupyter.org/install\n",
    "* JupyterLite: https://jupyter.org/try-jupyter/lab/\n",
    "* Google Colab: https://colab.research.google.com/\n",
    "* CoCalc: https://cocalc.com/\n"
   ]
  },
  {
   "cell_type": "markdown",
   "id": "30d47118",
   "metadata": {},
   "source": [
    "## Markdown cells\n",
    "\n",
    "A Jupyter notebook consists of a number of *cells*.  The cells that contain text are known as *Markdown* cells, and they use a markup language known as Markdown for formatting text.  See the [Markdown Cheat Sheet](https://www.markdownguide.org/cheat-sheet/) for the basics.\n",
    "\n",
    "Markdown cells also support $\\LaTeX$ syntax for typesetting mathematics.  See [LaTeX Math for Undergrads](https://tug.ctan.org/info/undergradmath/undergradmath.pdf) for a comprehensive list of mathematical symbols, but here are a couple of examples:\n",
    "\n",
    "Suppose we input the following:\n",
    "\n",
    "```latex\n",
    "Suppose $\\mathbf{v},\\mathbf{w}\\in\\mathbb{R}^n$ are vectors.  Then $\\mathbf{v}\\cdot\\mathbf{w} = \\|\\mathbf{v}\\|\\|\\mathbf{w}\\|\\sin\\theta$.\n",
    "```\n",
    "\n",
    "This gives us:\n",
    "\n",
    "Suppose $\\mathbf{v},\\mathbf{w}\\in\\mathbb{R}^n$ are vectors.  Then $\\mathbf{v}\\cdot\\mathbf{w} = \\|\\mathbf{v}\\|\\|\\mathbf{w}\\|\\cos\\theta$.\n",
    "\n",
    "\n",
    "Here's another example:\n",
    "\n",
    "```latex\n",
    "Suppose $\\mathbf{v},\\mathbf{w}\\in\\mathbb{R}^3$ are vectors.  Then $$\\|\\mathbf{v}\\times\\mathbf{w}\\| = \\|\\mathbf{v}\\|\\|\\mathbf{w}\\|\\sin\\theta.$$\n",
    "```\n",
    "\n",
    "This gives us:\n",
    "\n",
    "Suppose $\\mathbf{v},\\mathbf{w}\\in\\mathbb{R}^3$ are vectors.  Then $$\\|\\mathbf{v}\\times\\mathbf{w}\\| = \\|\\mathbf{v}\\|\\|\\mathbf{w}\\|\\sin\\theta.$$\n",
    "\n",
    "Notice the difference between `$` and `$$`.  The former gives us \"inline\" math and the latter gives us \"display\" math.\n"
   ]
  },
  {
   "cell_type": "markdown",
   "id": "d16b42a8",
   "metadata": {},
   "source": [
    "# Code cells\n",
    "\n",
    "The other type of cell in Jupyter is a *code* cell, which contain source code for one of various programming languages.  In this class, we'll just be using a small snippet of Python code to embed a three-dimensional figure generated using Desmos.\n",
    "\n",
    "For example, suppose we wanted to graph the elliptical paraboloid $z = x^2 + y^2$.  We would navigate to https://www.desmos.com/3d and type `z = x^2 + y^2` in the toolbar on the left-hand side of the screen.\n",
    "\n",
    "To embed this into a Jupyter notebook, we would then click \"Save\" (which first requires signing in -- you can create a free account).  This prompts us for a title for our figure, and also generates a unique URL that we can copy from our browser's address bar.  For example, when I did this, it generated the URL https://www.desmos.com/3d/hiykywxhsb.\n",
    "\n",
    "Finally, in our code cell back in Jupyter, we add the following two lines of Python code, using the URL that was just generated:\n",
    "\n",
    "```python\n",
    "import IPython\n",
    "IPython.display.IFrame(src=\"https://www.desmos.com/3d/hiykywxhsb\", width=800, height=600)\n",
    "```\n",
    "\n",
    "Let's see this in action:"
   ]
  },
  {
   "cell_type": "code",
   "execution_count": 2,
   "id": "a3c73c68",
   "metadata": {},
   "outputs": [
    {
     "data": {
      "text/html": [
       "\n",
       "        <iframe\n",
       "            width=\"800\"\n",
       "            height=\"600\"\n",
       "            src=\"https://www.desmos.com/3d/hiykywxhsb\"\n",
       "            frameborder=\"0\"\n",
       "            allowfullscreen\n",
       "            \n",
       "        ></iframe>\n",
       "        "
      ],
      "text/plain": [
       "<IPython.lib.display.IFrame at 0x7bbd936fe930>"
      ]
     },
     "execution_count": 2,
     "metadata": {},
     "output_type": "execute_result"
    }
   ],
   "source": [
    "import IPython\n",
    "IPython.display.IFrame(src=\"https://www.desmos.com/3d/hiykywxhsb\", width=800, height=600)"
   ]
  },
  {
   "cell_type": "markdown",
   "id": "a7bdbad6",
   "metadata": {},
   "source": [
    "## Lab assignment\n",
    "\n",
    "Now let's get to the actual assignment.  In a code cell, copy, paste, and run the following Python code:\n",
    "\n",
    "```python\n",
    "import random\n",
    "for i in range(3):\n",
    "    print(tuple(random.randint(-6, 6) for i in range(3)))\n",
    "```\n",
    "\n",
    "This should print the coordinates of three random points in $\\mathbb R^3$.  Unless you're unlucky and get duplicate or collinear points, only run this code once.  Otherwise, your numbers will change for the rest of the assignment.\n",
    "\n",
    "Next, in a markdown cell, do the following:\n",
    "\n",
    "* Find the equation of the plane that passes through these three points.\n",
    "* Find a vector function parametrizing a line that passes through one of these three points and is normal to the plane.\n",
    "\n",
    "Explain each step using complete sentences and the proper mathematical notation.  Use $\\LaTeX$ where approriate.\n",
    "\n",
    "Then, in Desmos:\n",
    "\n",
    "* Graph the plane and the line that you found above.\n",
    "\n",
    "Save this and include it in a Jupyter code cell as in the paraboloid example above.\n",
    "\n",
    "Finally, save your Jupyter notebook (it should have the .ipynb extension) and upload it to Canvas.\n"
   ]
  }
 ],
 "metadata": {
  "kernelspec": {
   "display_name": "Python 3 (ipykernel)",
   "language": "python",
   "name": "python3"
  },
  "language_info": {
   "codemirror_mode": {
    "name": "ipython",
    "version": 3
   },
   "file_extension": ".py",
   "mimetype": "text/x-python",
   "name": "python",
   "nbconvert_exporter": "python",
   "pygments_lexer": "ipython3",
   "version": "3.12.3"
  }
 },
 "nbformat": 4,
 "nbformat_minor": 5
}
