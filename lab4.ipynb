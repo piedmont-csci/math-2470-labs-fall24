{
 "cells": [
  {
   "cell_type": "code",
   "execution_count": 57,
   "id": "2316e26e",
   "metadata": {},
   "outputs": [
    {
     "name": "stdout",
     "output_type": "stream",
     "text": [
      "P = (3, 8, 1)\n",
      "Q = (3, 4, 5)\n",
      "elliptic cylinder: (y-4)²/16 + (z-1)²/16 = 1\n",
      "plane: x = 3\n",
      "F(x,y,z) = <4x+5y+5z, 5x+4y+4z, 5x+4y+6z>\n"
     ]
    }
   ],
   "source": [
    "import random\n",
    "a, b, c, d, e = (random.randint(1, 5) for i in range(5))\n",
    "vars = ['x', 'y', 'z']\n",
    "plane = vars.pop(random.randint(0, 2))\n",
    "\n",
    "if plane == 'x':\n",
    "    P = (c, a + d, e)\n",
    "    Q = (c, d, b + e)\n",
    "elif plane == 'y':\n",
    "    P = (a + d, c, e)\n",
    "    Q = (d, c, b + e)\n",
    "else:\n",
    "    P = (a + d, e, c)\n",
    "    Q = (d, b + e, c)\n",
    "    \n",
    "print(f\"P = {P}\")\n",
    "print(f\"Q = {Q}\")\n",
    "print(f\"elliptic cylinder: ({vars[0]}-{d})²/{a**2} + ({vars[1]}-{e})²/{b**2} = 1\")\n",
    "print(f\"plane: {plane} = {c}\")\n",
    "\n",
    "coeffs = [random.randint(1, 5) for i in range(6)]\n",
    "print(f\"F(x,y,z) = <{2*coeffs[0]}x+{coeffs[1]}y+{coeffs[2]}z, {coeffs[1]}x+{2*coeffs[3]}y+{coeffs[4]}z, {coeffs[2]}x+{coeffs[4]}y+{2*coeffs[5]}z>\")\n"
   ]
  }
 ],
 "metadata": {
  "kernelspec": {
   "display_name": "Python 3 (ipykernel)",
   "language": "python",
   "name": "python3"
  },
  "language_info": {
   "codemirror_mode": {
    "name": "ipython",
    "version": 3
   },
   "file_extension": ".py",
   "mimetype": "text/x-python",
   "name": "python",
   "nbconvert_exporter": "python",
   "pygments_lexer": "ipython3",
   "version": "3.12.3"
  }
 },
 "nbformat": 4,
 "nbformat_minor": 5
}
