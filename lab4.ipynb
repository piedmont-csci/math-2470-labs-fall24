{
 "cells": [
  {
   "cell_type": "markdown",
   "id": "99f78e68",
   "metadata": {},
   "source": [
    "# Lab 4\n",
    "\n",
    "In a Jupyter notebook, do the following.  Upload the resulting .ipynb file to Canvas when finished.\n",
    "\n",
    "## Problem 1\n",
    "\n",
    "### Part (a)\n",
    "\n",
    "Copy, paste, and run the Python code below in a code cell.  It should randomly generate two points in $\\mathbb R^3$, the equations of two surfaces in $\\mathbb R^3$, and a vector field $\\mathbf F:\\mathbb R^3\\to\\mathbb R^3$."
   ]
  },
  {
   "cell_type": "code",
   "execution_count": 57,
   "id": "2316e26e",
   "metadata": {},
   "outputs": [
    {
     "name": "stdout",
     "output_type": "stream",
     "text": [
      "P = (3, 8, 1)\n",
      "Q = (3, 4, 5)\n",
      "elliptic cylinder: (y-4)²/16 + (z-1)²/16 = 1\n",
      "plane: x = 3\n",
      "F(x,y,z) = <4x+5y+5z, 5x+4y+4z, 5x+4y+6z>\n"
     ]
    }
   ],
   "source": [
    "import random\n",
    "a, b, c, d, e = (random.randint(1, 5) for i in range(5))\n",
    "vars = ['x', 'y', 'z']\n",
    "plane = vars.pop(random.randint(0, 2))\n",
    "\n",
    "if plane == 'x':\n",
    "    P = (c, a + d, e)\n",
    "    Q = (c, d, b + e)\n",
    "elif plane == 'y':\n",
    "    P = (a + d, c, e)\n",
    "    Q = (d, c, b + e)\n",
    "else:\n",
    "    P = (a + d, e, c)\n",
    "    Q = (d, b + e, c)\n",
    "    \n",
    "print(f\"P = {P}\")\n",
    "print(f\"Q = {Q}\")\n",
    "print(f\"elliptic cylinder: ({vars[0]}-{d})²/{a**2} + ({vars[1]}-{e})²/{b**2} = 1\")\n",
    "print(f\"plane: {plane} = {c}\")\n",
    "\n",
    "coeffs = [random.randint(1, 5) for i in range(6)]\n",
    "print(f\"F(x,y,z) = <{2*coeffs[0]}x+{coeffs[1]}y+{coeffs[2]}z, {coeffs[1]}x+{2*coeffs[3]}y+{coeffs[4]}z, {coeffs[2]}x+{coeffs[4]}y+{2*coeffs[5]}z>\")\n"
   ]
  },
  {
   "cell_type": "markdown",
   "id": "bd75ff7b",
   "metadata": {},
   "source": [
    "### Part (b)\n",
    "\n",
    "Let $C_1$ be the oriented line segment from $P$ to $Q$.  In a Markdown cell, using $\\LaTeX$ as appropriate, give a parametrization for $C_1$."
   ]
  },
  {
   "cell_type": "markdown",
   "id": "a67c29ac",
   "metadata": {},
   "source": [
    "### Part (c)\n",
    "\n",
    "Let $C_2$ be the oriented curve from $P$ to $Q$ that takes the shortest path along the ellipse obtained by intersecting the two surfaces from part (a).  In a Markdown cell, using $\\LaTeX$ as appropriate, give a parametrization for $C_2$."
   ]
  },
  {
   "cell_type": "markdown",
   "id": "1171357c",
   "metadata": {},
   "source": [
    "### Part (d)\n",
    "\n",
    "Pick six distinct points: $P$, $Q$, two points on $C_1$, and two points on $C_2$.  In a Markdown cell, using $\\LaTeX$ where appropriate, compute the images under $\\mathbf F$ of these six points."
   ]
  },
  {
   "cell_type": "markdown",
   "id": "5e92d3a1",
   "metadata": {},
   "source": [
    "### Part (e)\n",
    "\n",
    "In Desmos, plot $C_1$ using your parametrization from part (b), $C_2$ using your parametrization from part (c), and the six vectors you found in part (d), each with its tail at the point that you used to find it.  Embed this graph in your notebook using a code cell.\n",
    "\n",
    "(As an intermediate step, it may be useful to plot the two surfaces to make sure that you have the right parametrization for $C_2$, but remove this from the final graph.)"
   ]
  },
  {
   "cell_type": "markdown",
   "id": "67611110",
   "metadata": {},
   "source": [
    "## Problem 2\n",
    "\n",
    "### Part (a)\n",
    "\n",
    "Compute $\\displaystyle{\\int_{C_1}\\mathbf F\\cdot d\\mathbf r}$ using your parametrization from 1(b).  Explain your work in a Markdown cell using $\\LaTeX$ as appropriate."
   ]
  },
  {
   "cell_type": "markdown",
   "id": "615df3f6",
   "metadata": {},
   "source": [
    "### Part (b)\n",
    "\n",
    "Compute $\\displaystyle{\\int_{C_2}\\mathbf F\\cdot d\\mathbf r}$ using your parametrization from 1(c).  Explain your work in a Markdown cell using $\\LaTeX$ as appropriate."
   ]
  },
  {
   "cell_type": "markdown",
   "id": "042f86ee",
   "metadata": {},
   "source": [
    "### Part (c)\n",
    "\n",
    "In a Markdown cell, compare your answers to parts (a) and (b).  Does this make you suspect anything about $\\mathbf F$?"
   ]
  },
  {
   "cell_type": "markdown",
   "id": "fc31a12a",
   "metadata": {},
   "source": [
    "## Problem 3\n",
    "\n",
    "### Part (a)\n",
    "\n",
    "In a Markdown cell using $\\LaTeX$ as appropriate, compute $\\nabla\\times\\mathbf F$.  Does this confirm your suspicions about $\\mathbf F$ from 2(c)?  Why?\n",
    "\n",
    "### Part (b)\n",
    "\n",
    "What does part (a) tell you about the existence of a scalar field $f:\\mathbb R^3\\to\\mathbb R$ for which $\\nabla f = \\mathbf F$?  If such a scalar field exists, find it.  Explain your work in a Markdown cell using $\\LaTeX$ as appropriate.\n",
    "\n",
    "### Part (c)\n",
    "\n",
    "Use the fundamental theorem of line integrals to find $\\int_C\\mathbf F\\cdot d\\mathbf r$ for *any* oriented curve $C$ from $P$ to $Q$.  Does this agree with your computations from 2(a) and 2(b)?  Explain your work in a Markdown cell using $\\LaTeX$ as appropriate."
   ]
  }
 ],
 "metadata": {
  "kernelspec": {
   "display_name": "Python 3 (ipykernel)",
   "language": "python",
   "name": "python3"
  },
  "language_info": {
   "codemirror_mode": {
    "name": "ipython",
    "version": 3
   },
   "file_extension": ".py",
   "mimetype": "text/x-python",
   "name": "python",
   "nbconvert_exporter": "python",
   "pygments_lexer": "ipython3",
   "version": "3.12.3"
  }
 },
 "nbformat": 4,
 "nbformat_minor": 5
}
