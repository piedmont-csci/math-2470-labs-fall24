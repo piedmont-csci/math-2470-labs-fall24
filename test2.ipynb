{
 "cells": [
  {
   "cell_type": "markdown",
   "id": "601479c9",
   "metadata": {},
   "source": [
    "# Test 2"
   ]
  },
  {
   "cell_type": "markdown",
   "id": "fdefad8f",
   "metadata": {},
   "source": [
    "## Problem 1\n",
    "*Consider the scalar field $f(x,y) = \\sqrt{4 - (x - 2)^2 - (y + 1)^2}$.*"
   ]
  },
  {
   "cell_type": "markdown",
   "id": "2d55e4e3",
   "metadata": {},
   "source": [
    "### Part (a)\n",
    "*Sketch the domain of $f$ on the axes below.*"
   ]
  },
  {
   "cell_type": "markdown",
   "id": "73cb8c7b",
   "metadata": {},
   "source": [
    "We know that the square root function $\\sqrt{\\cdot}$ is only defined when its argument is nonnegative, and so the implicit domain of $f$ is all points in $\\mathbb R^2$ for which\n",
    "\\begin{align*}\n",
    "4-(x-2)^2 - (y+1)^2 &\\geq 0 \\\\\n",
    "4 &\\geq (x - 2)^2 + (y + 1)^2 \\\\\n",
    "(x - 2)^2 + (y + 1)^2 &\\leq 4\n",
    "\\end{align*}\n",
    "\n",
    "Geometrically, this is the interior of the circle of radius 2 centered at the point $(2, -1)$."
   ]
  },
  {
   "cell_type": "code",
   "execution_count": 1,
   "id": "2a24bf9a",
   "metadata": {},
   "outputs": [
    {
     "data": {
      "text/html": [
       "\n",
       "        <iframe\n",
       "            width=\"800\"\n",
       "            height=\"600\"\n",
       "            src=\"https://www.desmos.com/calculator/mcu1umcqce\"\n",
       "            frameborder=\"0\"\n",
       "            allowfullscreen\n",
       "            \n",
       "        ></iframe>\n",
       "        "
      ],
      "text/plain": [
       "<IPython.lib.display.IFrame at 0x70ac42eadee0>"
      ]
     },
     "execution_count": 1,
     "metadata": {},
     "output_type": "execute_result"
    }
   ],
   "source": [
    "import IPython\n",
    "IPython.display.IFrame(src=\"https://www.desmos.com/calculator/mcu1umcqce\", width=800, height=600)"
   ]
  },
  {
   "cell_type": "markdown",
   "id": "8f68518a",
   "metadata": {},
   "source": [
    "### Part (b)\n",
    "*The range of $f$ is a closed interval of the form $[a,b]$ for some $a,b\\in\\mathbb R$.  Find $a$ and $b$ and give one example each of solutions to the equations $f(x,y) = a$ and $f(x,y) = b$.*"
   ]
  },
  {
   "cell_type": "markdown",
   "id": "4699aab3",
   "metadata": {},
   "source": [
    "We know that the range of the square root function $\\sqrt{\\cdot}$ is all nonnegative real numbers, and it achieves the lower bound of this range when its argument is zero since $\\sqrt 0 = 0$.  So we know that $a\\geq 0$.  We can show that $a = 0$ by finding a solution to the following equation:\n",
    "\n",
    "\\begin{align*}\n",
    "4 - (x-2)^2 + (y+1)^2 &= 0 \\\\\n",
    "4 &= (x - 2)^2 + (y + 1)^2\n",
    "\\end{align*}\n",
    "\n",
    "So any point on the circle that forms the boundary of the domain from part (a) will work.  For example,\n",
    "\n",
    "\\begin{equation*}\n",
    "f(4, -1) = \\sqrt{4 - (4 - 2)^2 - (-1 + 1)^2} = \\sqrt{4 - 2^2 - 0} = 0\n",
    "\\end{equation*}\n",
    "\n",
    "To find the upper bound of the range, we look to see if there is an upper bound for the argument of the square root function, i.e., the expression $4 - (x - 2)^2 - (y + 1)^2$.  Since the second and third terms are squares, we know that they are always nonnegative, and so in particular:\n",
    "\n",
    "\\begin{align*}\n",
    "(x - 2)^2 + (y + 1)^2 &\\geq 0 \\\\\n",
    "-(x - 2)^2 - (y + 1)^2 &\\leq 0 \\\\\n",
    "4-(x - 2)^2 - (y + 1)^2 &\\leq 4 \\\\\n",
    "\\end{align*}\n",
    "\n",
    "Finally, since the square root function $\\sqrt{\\cdot}$ is an increasing function on the nonnegative real numbers, we see that\n",
    "\\begin{equation*}\n",
    "\\sqrt{4-(x - 2)^2 - (y + 1)^2} \\leq \\sqrt 4 = 2,\n",
    "\\end{equation*}\n",
    "and so $b=2$.\n",
    "\n",
    "Finally, we see that $f$ achieves this upper bound precisely when $(x-2)^2 + (y + 1)^2=0$, which happens only at $(2, -1)$, the center of the circle that forms the boundary of the domain from part (a).  Indeed,\n",
    "\n",
    "\\begin{equation*}\n",
    "f(2, -1) = \\sqrt{4 - (2 - 2)^2 - (-1 + 1)^2} = \\sqrt{4 - 0 - 0} = 2\n",
    "\\end{equation*}"
   ]
  },
  {
   "cell_type": "markdown",
   "id": "7f1a8589",
   "metadata": {},
   "source": [
    "## Problem 2\n",
    "*Consider the scalar field $f(x,y)=\\dfrac{x-y}{x}$.*\n",
    "\n",
    "*Find $\\displaystyle{\\lim_{(x,y)\\to(0,0)}f(x,y)}$ or show that it does not exist.*\n",
    "\n",
    "*Hint:  Consider the behavior of $f$ as its input approaches the origin along the lines $y=x$ and $y=-x$.*"
   ]
  },
  {
   "cell_type": "markdown",
   "id": "403a4571",
   "metadata": {},
   "source": [
    "First, note that just plugging in $x = 0$ and $y = 0$ gives us the indeterminate form $\\frac{0}{0}$.  So we have more work to do.\n",
    "\n",
    "Using the hint, let's consider the behavior of $f$ along the given lines.\n",
    "\n",
    "When $y=x$, we have $f(x,x) = \\dfrac{x-x}{x}=0$ for all $x\\neq 0$.\n",
    "\n",
    "When $y=-x$, we have $f(x,-x) = \\dfrac{x-(-x)}{x} = \\dfrac{2x}{x} = 2$ for all $x\\neq 0$.\n",
    "\n",
    "So as we approach the origin along the first line, $f$ approaches 0, and as we approach the origin along the second line, it approaches 2.  Therefore, the limit cannot exist."
   ]
  },
  {
   "cell_type": "code",
   "execution_count": 4,
   "id": "7c6ecdaa",
   "metadata": {},
   "outputs": [
    {
     "data": {
      "text/html": [
       "\n",
       "        <iframe\n",
       "            width=\"800\"\n",
       "            height=\"600\"\n",
       "            src=\"https://www.desmos.com/3d/djp3fqrujs\"\n",
       "            frameborder=\"0\"\n",
       "            allowfullscreen\n",
       "            \n",
       "        ></iframe>\n",
       "        "
      ],
      "text/plain": [
       "<IPython.lib.display.IFrame at 0x70ac43078a10>"
      ]
     },
     "execution_count": 4,
     "metadata": {},
     "output_type": "execute_result"
    }
   ],
   "source": [
    "IPython.display.IFrame(src=\"https://www.desmos.com/3d/djp3fqrujs\", width=800, height=600)"
   ]
  },
  {
   "cell_type": "markdown",
   "id": "c6c5bc59",
   "metadata": {},
   "source": [
    "## Problem 3\n",
    "*Suppose $f(x,y)=\\ln x\\tan y$ is a scalar field on $\\mathbb R^2$ and $\\mathbf r:\\mathbb R\\to\\mathbb R^2$ is a vector function with $\\mathbf r(3)=\\langle e, 0\\rangle$ and $\\mathbf r'(3)=\\langle -4, 2\\rangle$.*\n",
    "\n",
    "*Find $(f\\circ\\mathbf r)'(3)$.*"
   ]
  },
  {
   "cell_type": "markdown",
   "id": "8b7a4f35",
   "metadata": {},
   "source": [
    "By the multivariable chain rule,\n",
    "\n",
    "\\begin{equation*}\n",
    "(f\\circ\\mathbf r)'(t) = \\nabla f(\\mathbf r(t))\\cdot\\mathbf r'(t)\n",
    "\\end{equation*}\n",
    "\n",
    "First, let's compute the gradient of $f$:\n",
    "\n",
    "\\begin{align*}\n",
    "\\nabla f(x,y) &= \\left\\langle \\frac{\\partial}{\\partial x}(\\ln x\\tan y), \\frac{\\partial}{\\partial y}(\\ln x\\tan y)\\right\\rangle \\\\\n",
    "&= \\left\\langle \\frac{\\tan y}{x}, \\ln x\\sec^2 y\\right\\rangle\n",
    "\\end{align*}\n",
    "\n",
    "Therefore:\n",
    "\n",
    "\\begin{align*}\n",
    "(f\\circ\\mathbf r)'(3) &=  \\nabla f(\\mathbf r(3))\\cdot\\mathbf r'(3) \\\\\n",
    "&= \\nabla f(e, 0)\\cdot\\langle -4, 2\\rangle \\\\\n",
    "&= \\left\\langle \\frac{\\tan 0}{e}, \\ln e\\sec^2 0\\right\\rangle\\cdot\\langle -4, 2\\rangle \\\\\n",
    "&= \\langle 0, 1\\rangle \\cdot \\langle -4, 2\\rangle \\\\\n",
    "&= 0\\cdot(-4) + 1\\cdot 2 \\\\\n",
    "&= 2\n",
    "\\end{align*}"
   ]
  },
  {
   "cell_type": "markdown",
   "id": "dd91d737",
   "metadata": {},
   "source": [
    "## Problem 4\n",
    "*Consider the scalar field $f(x,y) = x^2 + \\frac{1}{3}y^3 - 9y$.*\n",
    "\n",
    "*Find all points in $\\mathbb R^2$ where $f$ has a local maximum, local minimum, or saddle point.*"
   ]
  },
  {
   "cell_type": "markdown",
   "id": "03611de5",
   "metadata": {},
   "source": [
    "First, we want to find all critical points where $\\nabla f(x,y)=\\mathbf 0$.\n",
    "\n",
    "In this case, we have\n",
    "\\begin{equation*}\n",
    "\\nabla f(x,y) = \\langle 2x, y^2 - 9\\rangle\n",
    "\\end{equation*}\n",
    "\n",
    "So we want to solve the system of equations\n",
    "\\begin{equation*}\n",
    "\\begin{cases}\n",
    "2x & = 0 \\\\\n",
    "y^2 - 9 &= 0\n",
    "\\end{cases}\n",
    "\\end{equation*}\n",
    "\n",
    "We see that $2x = 0$ implies that $x = 0$ and $y^2 - 9 = 0$ implies that $y^2 = 9$ or $y = \\pm 3$.  So there are two critical points: $(0, 3)$ and $(0, -3)$.\n",
    "\n",
    "Next we compute the discriminant of $f$ by finding the determinant of its Hessian matrix, i.e., the $2\\times 2$ matrix consisting of all the second partial derivatives of $f$.  In particular, its first row is the gradient of $2x$ and its second row is the gradient of $y^2 - 9$.  We have:\n",
    "\n",
    "\\begin{equation*}\n",
    "D(x, y) = \\begin{vmatrix}\n",
    "2 & 0 \\\\\n",
    "0 & 2y\n",
    "\\end{vmatrix} = 4y\n",
    "\\end{equation*}\n",
    "\n",
    "Now let's examine each critical point.\n",
    "\n",
    "At $(0, 3)$, we have $D(0, 3) = 4\\cdot 3 = 12$.  Since this is positive, this tells us that the Hessian is definite at $(0, 3)$, and so we have a local extremum.  To determine which type, we look at the upper left hand corner of the Hessian matrix, $\\frac{\\partial^2 f}{\\partial x^2}(0,3) = 2$.  Since this is positive, we know that the Hessian is positive definite (so the graph is concave up in all directions), and we have a *local minimum* at $(0, 3)$.\n",
    "\n",
    "At $(0, -3)$, we have $D(0, -3) = 4\\cdot(-3)=-12$.  Since this is negative, we know that the Hessian is not definite at $(0, -3)$, and so we have a *saddle point*."
   ]
  },
  {
   "cell_type": "code",
   "execution_count": 2,
   "id": "7a2a6a8d",
   "metadata": {},
   "outputs": [
    {
     "data": {
      "text/html": [
       "\n",
       "        <iframe\n",
       "            width=\"800\"\n",
       "            height=\"600\"\n",
       "            src=\"https://www.desmos.com/3d/kz8uoohzy1\"\n",
       "            frameborder=\"0\"\n",
       "            allowfullscreen\n",
       "            \n",
       "        ></iframe>\n",
       "        "
      ],
      "text/plain": [
       "<IPython.lib.display.IFrame at 0x70ac42eac140>"
      ]
     },
     "execution_count": 2,
     "metadata": {},
     "output_type": "execute_result"
    }
   ],
   "source": [
    "IPython.display.IFrame(src=\"https://www.desmos.com/3d/kz8uoohzy1\", width=800, height=600)"
   ]
  },
  {
   "cell_type": "markdown",
   "id": "e33f6c21",
   "metadata": {},
   "source": [
    "## Problem 5\n",
    "*Consider the scalar field $f(x,y) = x^2 - 4y^2$.*\n",
    "\n",
    "*Use the method of Lagrange multipliers to find the maximum value of $f$ subject the constraint $2x + y=15$.*\n"
   ]
  },
  {
   "cell_type": "markdown",
   "id": "aa803ad9",
   "metadata": {},
   "source": [
    "Recall that the method of Lagrange multipliers tells us that solutions to constrained optimization problems such as this occur when $\\nabla f = \\lambda \\nabla g$ for some scalar $\\lambda$, where $g$ is a scalar field which has a level set corresponding to the constraint.\n",
    "\n",
    "In this case, we have $g(x,y) = 2x + y$.  Computing the gradients:\n",
    "\n",
    "\\begin{align*}\n",
    "\\nabla f(x,y) &= \\langle 2x, -8y\\rangle \\\\\n",
    "\\nabla g(x,y) &= \\langle 2, 1\\rangle\n",
    "\\end{align*}\n",
    "\n",
    "This gives us the following system of equations:\n",
    "\n",
    "\\begin{equation*}\n",
    "\\begin{cases}\n",
    "2x &= 2\\lambda \\\\\n",
    "-8y &= \\lambda \\\\\n",
    "2x + y &= 15\n",
    "\\end{cases}\n",
    "\\end{equation*}\n",
    "\n",
    "Since $x = \\lambda$ from the first equation, we see that $x=-8y$ from the second equation.  Plugging into the third equation, we have\n",
    "\\begin{align*}\n",
    "2(-8y) + y &= 15 \\\\\n",
    "-16y + y &= 15\\\\\n",
    "-15 y &= 15\\\\\n",
    "y &= -1\n",
    "\\end{align*}\n",
    "\n",
    "Therefore, the maximum must occur when $y=-1$ and $x=-8(-1)=8$.  And so the maximum value is $f(8, -1) = 8^2 - 4(-1)^2 = 64 - 4 = 60$.\n",
    "\n",
    "*Note:*  For the purposes of the graph below, note that $2x + y = 15$ can be rewritten as $y=-2x + 15$, which can be parametrized by $\\mathbf r(t) = \\langle t, -2t + 15\\rangle$."
   ]
  },
  {
   "cell_type": "code",
   "execution_count": 6,
   "id": "a8d7018f",
   "metadata": {},
   "outputs": [
    {
     "data": {
      "text/html": [
       "\n",
       "        <iframe\n",
       "            width=\"800\"\n",
       "            height=\"600\"\n",
       "            src=\"https://www.desmos.com/3d/s3qlvyaift\"\n",
       "            frameborder=\"0\"\n",
       "            allowfullscreen\n",
       "            \n",
       "        ></iframe>\n",
       "        "
      ],
      "text/plain": [
       "<IPython.lib.display.IFrame at 0x70ac42eaee10>"
      ]
     },
     "execution_count": 6,
     "metadata": {},
     "output_type": "execute_result"
    }
   ],
   "source": [
    "IPython.display.IFrame(src=\"https://www.desmos.com/3d/s3qlvyaift\", width=800, height=600)"
   ]
  }
 ],
 "metadata": {
  "kernelspec": {
   "display_name": "Python 3 (ipykernel)",
   "language": "python",
   "name": "python3"
  },
  "language_info": {
   "codemirror_mode": {
    "name": "ipython",
    "version": 3
   },
   "file_extension": ".py",
   "mimetype": "text/x-python",
   "name": "python",
   "nbconvert_exporter": "python",
   "pygments_lexer": "ipython3",
   "version": "3.12.3"
  }
 },
 "nbformat": 4,
 "nbformat_minor": 5
}
