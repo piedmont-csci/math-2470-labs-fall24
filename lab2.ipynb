{
 "cells": [
  {
   "cell_type": "markdown",
   "id": "4702807a",
   "metadata": {},
   "source": [
    "# Lab 2"
   ]
  },
  {
   "cell_type": "markdown",
   "id": "1fa28c14",
   "metadata": {},
   "source": [
    "*For a refresher on using Jupyter, LaTeX in markdown cells, and including graphs from Desmos, see the [Lab 1 description](https://nbviewer.org/github/piedmont-csci/math-2470-labs-fall24/blob/70a83effc4afa3fba761f2deafe68f6393bd21a1/lab1.ipynb).*"
   ]
  },
  {
   "cell_type": "markdown",
   "id": "0b991f59",
   "metadata": {},
   "source": [
    "## Step 1\n",
    "\n",
    "In a code cell, run the following Python code:"
   ]
  },
  {
   "cell_type": "code",
   "execution_count": 1,
   "id": "bd850d6b",
   "metadata": {},
   "outputs": [
    {
     "name": "stdout",
     "output_type": "stream",
     "text": [
      "f(x,y,z) = -3x^2 + -4xy + 0y^2 + -3xz + 6yz + 5z^2\n"
     ]
    }
   ],
   "source": [
    "import random\n",
    "a = [random.randint(-6, 6) for i in range(6)]\n",
    "print(f\"f(x,y,z) = {a[0]}x^2 + {a[1]}xy + {a[2]}y^2 + {a[3]}xz + {a[4]}yz + {a[5]}z^2\")"
   ]
  },
  {
   "cell_type": "markdown",
   "id": "f69d211a",
   "metadata": {},
   "source": [
    "You should get a random *ternary quadratic form* , i.e., a polynomial scalar field $f:\\mathbb R^3\\to\\mathbb R$ where every term has degree 2."
   ]
  },
  {
   "cell_type": "markdown",
   "id": "8d978e6f",
   "metadata": {},
   "source": [
    "## Step 2\n",
    "\n",
    "In another code cell, run the following Python code:"
   ]
  },
  {
   "cell_type": "code",
   "execution_count": 2,
   "id": "f8fa377c",
   "metadata": {},
   "outputs": [
    {
     "name": "stdout",
     "output_type": "stream",
     "text": [
      "P = (5, -4, -4)\n",
      "v = ⟨-3, -5, 0⟩\n"
     ]
    }
   ],
   "source": [
    "print(f\"P = {tuple(random.randint(-6, 6) for i in range(3))}\")\n",
    "print(f\"v = {[random.randint(-6, 6) for i in range(3)]}\".replace(\"[\", \"⟨\").replace(\"]\", \"⟩\"))"
   ]
  },
  {
   "cell_type": "markdown",
   "id": "82a0b47d",
   "metadata": {},
   "source": [
    "This should give you a random point $P\\in\\mathbb R^3$ and a random vector $\\mathbf v\\in\\mathbb R^3$."
   ]
  },
  {
   "cell_type": "markdown",
   "id": "ed9830b3",
   "metadata": {},
   "source": [
    "## Step 3\n",
    "\n",
    "In a markdown cell, explaining your steps and using LaTeX where appropriate, do the following:\n",
    "\n",
    "1. Find $\\nabla f(P)$.\n",
    "2. Find the point $Q\\in\\mathbb R^3$ for which $\\overrightarrow{PQ}=\\nabla f(P)$.\n",
    "3. Find the point $R\\in\\mathbb R^3$ for which $\\overrightarrow{PR}=\\mathbf v$.\n",
    "4. Find the constant $c$ for which $P$ lies on the level surface $f(x, y, z)=c$ in $\\mathbb R^3$."
   ]
  },
  {
   "cell_type": "markdown",
   "id": "8a28fcf6",
   "metadata": {},
   "source": [
    "## Step 4\n",
    "In Desmos, plot the level surface $f(x, y, z)=c$ and the vectors $\\overrightarrow{PQ}$ and $\\overrightarrow{PR}$ (both with tails at $P$) from Step 3.\n",
    "\n",
    "Save your graph and embed it using a code cell as in Lab 1."
   ]
  },
  {
   "cell_type": "markdown",
   "id": "07ccf374",
   "metadata": {},
   "source": [
    "## Step 5\n",
    "\n",
    "In a markdown cell, explaining your steps and using LaTeX where appropriate, do the following:\n",
    "\n",
    "5.  Describe the relationship between the vector $\\nabla f(P)$ and the surface $f(x,y,z)=c$ that you observe from the graph.\n",
    "6.  Compute the directional derivative of $f$ at $P$ in the direction of $\\nabla f(P)$.\n",
    "7.  Compute the directional derivative of $f$ at $P$ in the direction of $\\mathbf v$.\n",
    "8.  Of the two directional derivatives you computed, which is greater?  How would you have known this even without computing their values?"
   ]
  }
 ],
 "metadata": {
  "kernelspec": {
   "display_name": "Python 3 (ipykernel)",
   "language": "python",
   "name": "python3"
  },
  "language_info": {
   "codemirror_mode": {
    "name": "ipython",
    "version": 3
   },
   "file_extension": ".py",
   "mimetype": "text/x-python",
   "name": "python",
   "nbconvert_exporter": "python",
   "pygments_lexer": "ipython3",
   "version": "3.12.3"
  }
 },
 "nbformat": 4,
 "nbformat_minor": 5
}
