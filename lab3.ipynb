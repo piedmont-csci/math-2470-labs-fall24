{
 "cells": [
  {
   "cell_type": "markdown",
   "id": "504e1b13",
   "metadata": {},
   "source": [
    "# Lab 3"
   ]
  },
  {
   "cell_type": "markdown",
   "id": "699871f7",
   "metadata": {},
   "source": [
    "## Plotting solid regions in $\\mathbb R^3$ using Desmos"
   ]
  },
  {
   "cell_type": "markdown",
   "id": "4184daea",
   "metadata": {},
   "source": [
    "We can use Desmos to plot solid regions in $\\mathbb R^3$ using inequalities and \"restrictions\" with curly braces.\n",
    "\n",
    "For example, suppose we would like to plot the region under the surface $z = x^2 + y^2$ above the region $\\{(x,y)\\in\\mathbb R^2:0\\leq x \\leq 1, 0\\leq y \\leq x\\}$ embedded in the $xy$-plane.\n",
    "\n",
    "We can start with the region under the surface and above the $xy$-plane, i.e., $0\\leq z\\leq x^2 + y^2$.  But we would like to also restrict the $x$- and $y$-values.  This is where restrictions come into play.  We add one for the restrictions on the $x$-values with $\\{0\\leq x \\leq 1\\}$ and another for the restrictions on the $y$-values with $\\{0\\leq y\\leq x\\}$.\n",
    "\n",
    "In Desmos, we will combine these into a single expression:\n",
    "\n",
    "$$0\\leq z\\leq x^2 + y^2 \\{0\\leq x \\leq 1\\} \\{0\\leq y\\leq x\\}$$\n",
    "\n",
    "This gives us the following plot:"
   ]
  },
  {
   "cell_type": "code",
   "execution_count": 1,
   "id": "04a4c91b",
   "metadata": {},
   "outputs": [
    {
     "data": {
      "text/html": [
       "\n",
       "        <iframe\n",
       "            width=\"800\"\n",
       "            height=\"600\"\n",
       "            src=\"https://www.desmos.com/3d/fnua0aafze\"\n",
       "            frameborder=\"0\"\n",
       "            allowfullscreen\n",
       "            \n",
       "        ></iframe>\n",
       "        "
      ],
      "text/plain": [
       "<IPython.lib.display.IFrame at 0x75defd847640>"
      ]
     },
     "execution_count": 1,
     "metadata": {},
     "output_type": "execute_result"
    }
   ],
   "source": [
    "import IPython\n",
    "IPython.display.IFrame(src=\"https://www.desmos.com/3d/fnua0aafze\", width=800, height=600)"
   ]
  },
  {
   "cell_type": "markdown",
   "id": "fc983f7a",
   "metadata": {},
   "source": [
    "Now recall that we can compute volumes of such regions using double integrals.  Indeed, for a scalar field $f$ on $\\mathbb R^2$, the (signed) volume under the surface $z = f(x,y)$ over the region $R\\subset\\mathbb R^2$ is\n",
    "$$\\iint_Rf(x,y)\\,dA$$\n",
    "\n",
    "So in this particular case, the volume of the solid plotted above may be computed using the iterated integral\n",
    "$$\\int_0^1\\int_0^x(x^2 + y^2)\\,dy\\,dx$$"
   ]
  },
  {
   "cell_type": "markdown",
   "id": "e93f2eae",
   "metadata": {},
   "source": [
    "## Lab Assignment"
   ]
  },
  {
   "cell_type": "markdown",
   "id": "07754348",
   "metadata": {},
   "source": [
    "### Problem 1"
   ]
  },
  {
   "cell_type": "markdown",
   "id": "e963df66",
   "metadata": {},
   "source": [
    "#### Part (a)\n",
    "\n",
    "In a code cell, run the Python code below to generate the formula for a random scalar field on $\\mathbb R^2$:"
   ]
  },
  {
   "cell_type": "code",
   "execution_count": 2,
   "id": "4a1af2f9",
   "metadata": {},
   "outputs": [
    {
     "name": "stdout",
     "output_type": "stream",
     "text": [
      "f(x,y) = 6 - 6/2 * x - 6/3 * y\n"
     ]
    }
   ],
   "source": [
    "import random\n",
    "(a, b, c) = (random.randint(1, 6) for i in range(3))\n",
    "print(f\"f(x,y) = {c} - {c}/{a} * x - {c}/{b} * y\")"
   ]
  },
  {
   "cell_type": "markdown",
   "id": "1d37fa06",
   "metadata": {},
   "source": [
    "#### Part (b)\n",
    "Determine the equation of the line in $\\mathbb R^2$ that corresponds to the intersection of the plane $z=f(x,y)$ that you generated in part (a) with the $xy$-plane.  Explain your work in a Markdown cell using $\\LaTeX$ as appropriate."
   ]
  },
  {
   "cell_type": "markdown",
   "id": "9a5274ee",
   "metadata": {},
   "source": [
    "#### Part (c)\n",
    "\n",
    "In Desmos, sketch the solid region in $\\mathbb R^3$ bounded by the three coordinate planes and the plane $z = f(x,y)$.  Save your graph and embed it in your Jupyter notebook using a code cell.\n",
    "\n",
    "*Hint:*  The line whose equation you found in part (b) may be useful."
   ]
  },
  {
   "cell_type": "markdown",
   "id": "9b4b8605",
   "metadata": {},
   "source": [
    "#### Part (d)\n",
    "\n",
    "Using a double integral, compute the volume of the solid region sketched in part (c).  Explain your work in a Markdown cell using $\\LaTeX$ as appropriate.\n",
    "\n",
    "*Note:*  To get $\\int_a^b\\int_{g(x)}^{h(x)} f(x,y)\\,dy\\,dx$ using $\\LaTeX$, use `$\\int_a^b\\int_{g(x)}^{h(x)} f(x,y)\\,dy\\,dx$`."
   ]
  },
  {
   "cell_type": "markdown",
   "id": "05c9d7ce",
   "metadata": {},
   "source": [
    "### Problem 2\n",
    "#### Part (a)\n",
    "\n",
    "In a code cell, run the following Python code:"
   ]
  },
  {
   "cell_type": "code",
   "execution_count": 3,
   "id": "067937f5",
   "metadata": {},
   "outputs": [
    {
     "name": "stdout",
     "output_type": "stream",
     "text": [
      "f(x,y) = 1 - 5x^2 - 5y^2\n"
     ]
    }
   ],
   "source": [
    "(a, b) = (random.randint(1, 6) for i in range(2))\n",
    "print(f\"f(x,y) = {a} - {b}x^2 - {b}y^2\")"
   ]
  },
  {
   "cell_type": "markdown",
   "id": "fe601038",
   "metadata": {},
   "source": [
    "#### Part (b)\n",
    "Determine the equation of the circle in $\\mathbb R^2$ that corresponds to the intersection of the paraboloid $z = f(x,y)$ that you generated in part (a) with the $xy$-plane.  Identify its radius.  Explain your work in a Markdown cell using $\\LaTeX$ as appropriate."
   ]
  },
  {
   "cell_type": "markdown",
   "id": "d2934c1e",
   "metadata": {},
   "source": [
    "#### Part (c)\n",
    "\n",
    "In Desmos, sketch the solid region in $\\mathbb R^3$ bounded by the $xy$-plane and the paraboloid $z = f(x,y)$.  Save your graph and embed it in your Jupyter notebook using a code cell."
   ]
  },
  {
   "cell_type": "markdown",
   "id": "e3cbda40",
   "metadata": {},
   "source": [
    "#### Part (d)\n",
    "\n",
    "Using a double integral, compute the volume of the solid region sketched in part (c).  Explain your work in a Markdown cell using $\\LaTeX$ as appropriate.\n",
    "\n",
    "*Hint:*  Polar coordinates and the circle you found in part (b) may be useful."
   ]
  }
 ],
 "metadata": {
  "kernelspec": {
   "display_name": "Python 3 (ipykernel)",
   "language": "python",
   "name": "python3"
  },
  "language_info": {
   "codemirror_mode": {
    "name": "ipython",
    "version": 3
   },
   "file_extension": ".py",
   "mimetype": "text/x-python",
   "name": "python",
   "nbconvert_exporter": "python",
   "pygments_lexer": "ipython3",
   "version": "3.10.12"
  }
 },
 "nbformat": 4,
 "nbformat_minor": 5
}
